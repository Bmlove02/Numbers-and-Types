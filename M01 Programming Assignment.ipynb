{
 "cells": [
  {
   "cell_type": "markdown",
   "id": "d300f523",
   "metadata": {},
   "source": [
    "3600 seconds in an hour"
   ]
  },
  {
   "cell_type": "code",
   "execution_count": 18,
   "id": "f8920f03",
   "metadata": {},
   "outputs": [
    {
     "data": {
      "text/plain": [
       "3600"
      ]
     },
     "execution_count": 18,
     "metadata": {},
     "output_type": "execute_result"
    }
   ],
   "source": [
    ">>> 60 * 60"
   ]
  },
  {
   "cell_type": "code",
   "execution_count": 19,
   "id": "9d9eebe0",
   "metadata": {},
   "outputs": [],
   "source": [
    ">>> seconds_per_hour = 3600"
   ]
  },
  {
   "cell_type": "markdown",
   "id": "a4092add",
   "metadata": {},
   "source": [
    "86400 seconds in a day"
   ]
  },
  {
   "cell_type": "code",
   "execution_count": 21,
   "id": "e3c1f8e1",
   "metadata": {
    "scrolled": true
   },
   "outputs": [
    {
     "data": {
      "text/plain": [
       "86400"
      ]
     },
     "execution_count": 21,
     "metadata": {},
     "output_type": "execute_result"
    }
   ],
   "source": [
    ">>> seconds_per_hour * 24"
   ]
  },
  {
   "cell_type": "code",
   "execution_count": 22,
   "id": "3c28b18b",
   "metadata": {},
   "outputs": [],
   "source": [
    "seconds_per_day = seconds_per_hour * 24"
   ]
  },
  {
   "cell_type": "code",
   "execution_count": 23,
   "id": "18aee1c2",
   "metadata": {},
   "outputs": [
    {
     "data": {
      "text/plain": [
       "24.0"
      ]
     },
     "execution_count": 23,
     "metadata": {},
     "output_type": "execute_result"
    }
   ],
   "source": [
    "seconds_per_day / seconds_per_hour"
   ]
  },
  {
   "cell_type": "code",
   "execution_count": 24,
   "id": "2269574f",
   "metadata": {},
   "outputs": [
    {
     "data": {
      "text/plain": [
       "24"
      ]
     },
     "execution_count": 24,
     "metadata": {},
     "output_type": "execute_result"
    }
   ],
   "source": [
    "seconds_per_day // seconds_per_hour"
   ]
  },
  {
   "cell_type": "markdown",
   "id": "a879d3dc",
   "metadata": {},
   "source": [
    "The integer division number did agree with the floating-point division number besides the .0"
   ]
  },
  {
   "cell_type": "code",
   "execution_count": null,
   "id": "57842660",
   "metadata": {},
   "outputs": [],
   "source": []
  }
 ],
 "metadata": {
  "kernelspec": {
   "display_name": "Python 3 (ipykernel)",
   "language": "python",
   "name": "python3"
  },
  "language_info": {
   "codemirror_mode": {
    "name": "ipython",
    "version": 3
   },
   "file_extension": ".py",
   "mimetype": "text/x-python",
   "name": "python",
   "nbconvert_exporter": "python",
   "pygments_lexer": "ipython3",
   "version": "3.9.13"
  }
 },
 "nbformat": 4,
 "nbformat_minor": 5
}
